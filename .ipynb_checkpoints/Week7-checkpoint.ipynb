{
 "cells": [
  {
   "cell_type": "markdown",
   "metadata": {
    "collapsed": true
   },
   "source": [
    "# API's Lab 1\n",
    "In this lab, you will learn to make API Requests using Python.  The API in this lab is from the [FourSquare](www.foursquare.com) application. Check out the website and understand some of the features FourSquare has to offer.\n"
   ]
  },
  {
   "cell_type": "markdown",
   "metadata": {},
   "source": [
    "## Step 1:  Setting up a Developer Account\n",
    "Go to http://developer.foursquare.com and click \"Create New\" to set up a new developer account. Once your account is set up, go ahead and make a new app.  Name the App \"MEETLab7\" and use http://meet.mit.edu as the website. You can leave all the other fields blank and click \"Save Changes\" when you are done. The next page will give you a foursquare client id and client secret, go ahead and paste those values here, we will need them to access Foursquare's API. ![Foursqure Developer Account](FOURSQUARE1.PNG)"
   ]
  },
  {
   "cell_type": "code",
   "execution_count": null,
   "metadata": {
    "collapsed": true
   },
   "outputs": [],
   "source": [
    "foursquare_client_id = \"PASTE YOUR CLIENT ID HERE\"\n",
    "foursquare_client_secret = \"PASTE YOUR CLIENT SECRET HERE\""
   ]
  },
  {
   "cell_type": "markdown",
   "metadata": {},
   "source": [
    "## Step 2: Exploring the API Documentation\n",
    "If you check out https://developer.foursquare.com/docs/ you are taken to the documentation for Foursquare's API.  In this lab, we are going to try to use the [Search](https://developer.foursquare.com/docs/venues/search) feature to see if we can find some nice restaurants to have dinner.  \n",
    "\n",
    "In the API documentation we can see that in order to search the api there are few things that are required:\n",
    "\n",
    "* The URL of the API we are going to access in this case it is \"https://api.foursquare.com/v2/venues/search\"\n",
    "\n",
    "* A \"?\" is added next in the URL to indicate that we are passing in parameters, then each parameter is separated by a \"&\" sign\n",
    "\n",
    "* We must include our client id and client secret in the request\n",
    "\n",
    "* A version of the API you will be accessing (for today we will use version \"20150603\")\n",
    "\n",
    "\n",
    "* If we are searching around a city we must add a \"near\" parameter\n",
    "\n",
    "* If we are searching for a specific type of location (such as a Sushi Bar) we must add a \"query\" parameter (also note that phrases with spaces are replaced with the \"+\" symbol)\n",
    "\n",
    "\n",
    "Putting all of these together we get an API url that looks something like this:\n",
    "\n",
    "```\n",
    "https://api.foursquare.com/v2/venues/search?client_id=YOURCLIENTID&client_secret=YOURCLIENTSECRET&v=20130815&near=%San+Francisco&query=Sushi+Bar\n",
    "```\n",
    "\n",
    "we can create a URL string in Python that takes in the parameters as python variables like so:"
   ]
  },
  {
   "cell_type": "code",
   "execution_count": null,
   "metadata": {
    "collapsed": true
   },
   "outputs": [],
   "source": [
    "location = \"Dallas\"\n",
    "mealType = \"Sushi\"\n",
    "version = \"20150603\"\n",
    "url = ('https://api.foursquare.com/v2/venues/search?client_id=%s&client_secret=%s&v=%s&near=%s&query=%s' % (foursquare_client_id, foursquare_client_secret,version,location,mealType))\n"
   ]
  },
  {
   "cell_type": "markdown",
   "metadata": {},
   "source": [
    "# Step 3: Sending an API Request in Python\n",
    "There are many ways to make API requests in Python.  In this lab we will be using the [Requests](docs.python-requests.org/) library in Python\n",
    "__ you may need to run ```sudo pip install requests``` to use the this library __"
   ]
  },
  {
   "cell_type": "code",
   "execution_count": null,
   "metadata": {
    "collapsed": false
   },
   "outputs": [],
   "source": [
    "import requests\n",
    "\n",
    "result = requests.get(url).json()"
   ]
  },
  {
   "cell_type": "markdown",
   "metadata": {},
   "source": [
    "This line of code will send a GET request to the URL we provided and store the answer in a JSON file.  Let's see what is inside the response below:"
   ]
  },
  {
   "cell_type": "code",
   "execution_count": null,
   "metadata": {
    "collapsed": false
   },
   "outputs": [],
   "source": [
    "result"
   ]
  },
  {
   "cell_type": "markdown",
   "metadata": {},
   "source": [
    "Whoa,that was gross! What is all this information?!?! Well, Fourquare returned all of the results it could find inside a JSON string. But how do we just get the first result out of the JSON string?\n",
    "\n",
    "Well, JSON strings can be treated like dictionaries in python.  What happens when we look at the keys of the result?"
   ]
  },
  {
   "cell_type": "code",
   "execution_count": null,
   "metadata": {
    "collapsed": false
   },
   "outputs": [],
   "source": [
    "result.keys()"
   ]
  },
  {
   "cell_type": "markdown",
   "metadata": {},
   "source": [
    "So the result contains \"Meta\" which contains all the metadata. This is just information about the request we sent.  The \"Response\" key contains the actual information we requested. so let's see what's inside result['response']"
   ]
  },
  {
   "cell_type": "code",
   "execution_count": null,
   "metadata": {
    "collapsed": false
   },
   "outputs": [],
   "source": [
    "result['response']"
   ]
  },
  {
   "cell_type": "markdown",
   "metadata": {},
   "source": [
    "Seeing that this data is contained inside curly braces \"{ }\" means that we have another response dictionary inside of our original result dictionary.  Let's see what keys it contains"
   ]
  },
  {
   "cell_type": "code",
   "execution_count": null,
   "metadata": {
    "collapsed": false
   },
   "outputs": [],
   "source": [
    "result['response'].keys()"
   ]
  },
  {
   "cell_type": "markdown",
   "metadata": {},
   "source": [
    "Venues are the places that our request returned. Let's see what's inside of it."
   ]
  },
  {
   "cell_type": "code",
   "execution_count": null,
   "metadata": {
    "collapsed": true
   },
   "outputs": [],
   "source": [
    "result['response']['venues']"
   ]
  },
  {
   "cell_type": "markdown",
   "metadata": {},
   "source": [
    "Now, we have data contained inside of brackets \"[]\". So this is a list of data.  This list contains all of the venues that matched our query.  For this lab, we are only interested in finding the first match, so let's grab the 0th index item from the list"
   ]
  },
  {
   "cell_type": "code",
   "execution_count": null,
   "metadata": {
    "collapsed": true
   },
   "outputs": [],
   "source": [
    "result['response']['venues'][0]"
   ]
  },
  {
   "cell_type": "markdown",
   "metadata": {},
   "source": [
    "And it seems we have another dictionary inside of this first venue.  So let's check the keys again."
   ]
  },
  {
   "cell_type": "code",
   "execution_count": null,
   "metadata": {
    "collapsed": false
   },
   "outputs": [],
   "source": [
    "result['response']['venues'][0].keys()"
   ]
  },
  {
   "cell_type": "markdown",
   "metadata": {},
   "source": [
    "Ok this looks promising. What happens if I look inside the \"name\" key?"
   ]
  },
  {
   "cell_type": "code",
   "execution_count": null,
   "metadata": {
    "collapsed": false
   },
   "outputs": [],
   "source": [
    "result['response']['venues'][0]['name']"
   ]
  },
  {
   "cell_type": "markdown",
   "metadata": {},
   "source": [
    "Great! Let's store this as a variable"
   ]
  },
  {
   "cell_type": "code",
   "execution_count": null,
   "metadata": {
    "collapsed": true
   },
   "outputs": [],
   "source": [
    "restaurant_name = result['response']['venues'][0]['name']"
   ]
  },
  {
   "cell_type": "markdown",
   "metadata": {},
   "source": [
    "Now, let's see what's inside the location key:"
   ]
  },
  {
   "cell_type": "code",
   "execution_count": null,
   "metadata": {
    "collapsed": false
   },
   "outputs": [],
   "source": [
    "result['response']['venues'][0]['location']"
   ]
  },
  {
   "cell_type": "markdown",
   "metadata": {},
   "source": [
    "That's a lot of information about the address. The formatted address contains all of the information we would need to find the location, but it is inside of another list.  Maybe we can write a for loop to store it all in one string."
   ]
  },
  {
   "cell_type": "code",
   "execution_count": null,
   "metadata": {
    "collapsed": true
   },
   "outputs": [],
   "source": [
    "restaurant_address = \"\"\n",
    "for i in restaurant['location']['formattedAddress']:\n",
    "    restaurant_address += i + \" \""
   ]
  },
  {
   "cell_type": "markdown",
   "metadata": {},
   "source": [
    "Now let's see how our address looks:"
   ]
  },
  {
   "cell_type": "code",
   "execution_count": null,
   "metadata": {
    "collapsed": true
   },
   "outputs": [],
   "source": [
    "restaurant_address"
   ]
  },
  {
   "cell_type": "markdown",
   "metadata": {},
   "source": [
    "# Step 4: Putting it all together"
   ]
  },
  {
   "cell_type": "markdown",
   "metadata": {},
   "source": [
    "Ok cool. Now let's see if we can put it all together in one function. But before that, be sure to modify your location and string inputs to substitute spaces with \"+\" symbols"
   ]
  },
  {
   "cell_type": "code",
   "execution_count": null,
   "metadata": {
    "collapsed": false
   },
   "outputs": [],
   "source": [
    "testString = \"This is a test string\"\n",
    "testString.replace(\" \",\"+\")"
   ]
  },
  {
   "cell_type": "code",
   "execution_count": null,
   "metadata": {
    "collapsed": false
   },
   "outputs": [],
   "source": [
    "def findARestaurant(mealType, location):\n",
    "    mealType = mealType.replace(\" \", \"+\")\n",
    "    location = location.replace(\" \", \"+\")\n",
    "    version = \"20150603\"\n",
    "    url = ('https://api.foursquare.com/v2/venues/search?client_id=%s&client_secret=%s&v=%s&near=%s&query=%s' % (foursquare_client_id, foursquare_client_secret,version,location,mealType))\n",
    "    result = requests.get(url).json()\n",
    "    #Make sure the request returned venues\n",
    "    if len(result['response']['venues']) > 0:\n",
    "        restaurant_name = result['response']['venues'][0]['name']\n",
    "        #Also, check that the restaurant has a provided address\n",
    "        if 'address' in result['response']['venues'][0]['location'].keys():\n",
    "            restaurant_address = result['response']['venues'][0]['location']['address']\n",
    "        else: \n",
    "            restaurant_address = \"No Address Provided\"\n",
    "        print(restaurant_name, restaurant_address)\n",
    "    else:\n",
    "        print(\"No Restaurants Found\")\n",
    "    \n"
   ]
  },
  {
   "cell_type": "code",
   "execution_count": null,
   "metadata": {
    "collapsed": false,
    "scrolled": false
   },
   "outputs": [],
   "source": [
    "findARestaurant(\"Sushi\", \"Tel Aviv\")"
   ]
  },
  {
   "cell_type": "code",
   "execution_count": null,
   "metadata": {
    "collapsed": false
   },
   "outputs": [],
   "source": [
    "findARestaurant(\"Ribs\", \"Beit Jala\")"
   ]
  },
  {
   "cell_type": "code",
   "execution_count": null,
   "metadata": {
    "collapsed": false
   },
   "outputs": [],
   "source": [
    "findARestaurant(\"Falafel\", \"Jerusalem\")"
   ]
  },
  {
   "cell_type": "markdown",
   "metadata": {},
   "source": [
    "Now try finding restaurants all over the world!"
   ]
  },
  {
   "cell_type": "code",
   "execution_count": null,
   "metadata": {
    "collapsed": false
   },
   "outputs": [],
   "source": [
    "findARestaurant(\"Pizza\", \"Tokyo Japan\")\n",
    "findARestaurant(\"Tacos\", \"Jakarta Indonesia\")\n",
    "findARestaurant(\"Tapas\", \"Maputo Mozambique\")\n",
    "findARestaurant(\"Falafel\", \"Cairo Egypt\")\n",
    "findARestaurant(\"Spaghetti\", \"New Delhi India\")\n",
    "findARestaurant(\"Cappuccino\", \"Geneva Switzerland\")\n",
    "findARestaurant(\"Sushi\", \"Los Angeles California\")\n",
    "findARestaurant(\"Steak\", \"Santiago Chile\")\n",
    "findARestaurant(\"Gyros\", \"Sydney Australia\")"
   ]
  },
  {
   "cell_type": "markdown",
   "metadata": {
    "collapsed": false
   },
   "source": [
    "## Step 5: Finding Photos \n",
    "Now that you've found the name and address of restarants. Let's explore the [Foursquare Venue Photos API](https://developer.foursquare.com/docs/venues/photos) to see if we can find images for our results. In order to search for photos we must get the unique venue id from our previous request and pass it into the API of our new URL."
   ]
  },
  {
   "cell_type": "code",
   "execution_count": null,
   "metadata": {
    "collapsed": false
   },
   "outputs": [],
   "source": [
    "mealType = \"Salad\"\n",
    "location = \"Istanbul+Turkey\"\n",
    "version = \"20150603\"\n",
    "url = ('https://api.foursquare.com/v2/venues/search?client_id=%s&client_secret=%s&v=%s&near=%s&query=%s' % (foursquare_client_id, foursquare_client_secret,version,location,mealType))\n",
    "result = requests.get(url).json()\n",
    "restaurant_name = result['response']['venues'][0]['name']\n",
    "restaurant_id = result['response']['venues'][0]['id']\n",
    "print(restaurant_name, restaurant_id)"
   ]
  },
  {
   "cell_type": "markdown",
   "metadata": {},
   "source": [
    "Now that we have the id we can pass it into our new API request to find images:"
   ]
  },
  {
   "cell_type": "code",
   "execution_count": null,
   "metadata": {
    "collapsed": false
   },
   "outputs": [],
   "source": [
    "url = ('https://api.foursquare.com/v2/venues/%s/photos?client_id=%s&v=20150603&client_secret=%s' % ((restaurant_id,foursquare_client_id,foursquare_client_secret)))\n",
    "result = requests.get(url).json()\n",
    "result"
   ]
  },
  {
   "cell_type": "markdown",
   "metadata": {},
   "source": [
    "I'll save you some time exploring this JSON response and tell you where you can find the first photo:"
   ]
  },
  {
   "cell_type": "code",
   "execution_count": null,
   "metadata": {
    "collapsed": false
   },
   "outputs": [],
   "source": [
    "\n",
    "firstpic = result['response']['photos']['items'][0]\n",
    "firstpic"
   ]
  },
  {
   "cell_type": "markdown",
   "metadata": {},
   "source": [
    "Images on Foursquare's API are broken into prefixes and suffixes.  Between the two we can insert the dimensions we want for our picture. Let's size the picture to 300x300 and display it:"
   ]
  },
  {
   "cell_type": "code",
   "execution_count": null,
   "metadata": {
    "collapsed": false
   },
   "outputs": [],
   "source": [
    "from IPython.display import Image\n",
    "\n",
    "\n",
    "prefix = firstpic['prefix']\n",
    "suffix = firstpic['suffix']\n",
    "imageURL = prefix + \"300x300\" + suffix\n",
    "\n",
    "Image(url=imageURL)"
   ]
  },
  {
   "cell_type": "markdown",
   "metadata": {},
   "source": [
    "Yum Yum!  Now create a findARestaurants function, that returns a resturant name, address & picture for a restaurant in a given location.  Make sure your function is able to handle:\n",
    "* The API not finding a restaurant\n",
    "* The API not finding an address\n",
    "* The API not finding an image\n",
    "* The user specifying inputs with punctuation marks or capitalization differences. "
   ]
  },
  {
   "cell_type": "code",
   "execution_count": null,
   "metadata": {
    "collapsed": true
   },
   "outputs": [],
   "source": [
    "def findARestaurant(mealType,location):\n",
    "    pass #<--put your code here and erase 'pass'"
   ]
  },
  {
   "cell_type": "code",
   "execution_count": null,
   "metadata": {
    "collapsed": true
   },
   "outputs": [],
   "source": [
    "findARestaurant(\"Pizza\", \"Tokyo Japan\")\n",
    "findARestaurant(\"Tacos\", \"Jakarta Indonesia\")\n",
    "findARestaurant(\"Tapas\", \"Maputo Mozambique\")\n",
    "findARestaurant(\"Falafel\", \"Cairo Egypt\")\n",
    "findARestaurant(\"Spaghetti\", \"New Delhi India\")\n",
    "findARestaurant(\"Cappuccino\", \"Geneva Switzerland\")\n",
    "findARestaurant(\"Sushi\", \"Los Angeles California\")\n",
    "findARestaurant(\"Steak\", \"Santiago Chile\")\n",
    "findARestaurant(\"Gyros\", \"Sydney Australia\")"
   ]
  }
 ],
 "metadata": {
  "kernelspec": {
   "display_name": "Python 2",
   "language": "python",
   "name": "python2"
  },
  "language_info": {
   "codemirror_mode": {
    "name": "ipython",
    "version": 2
   },
   "file_extension": ".py",
   "mimetype": "text/x-python",
   "name": "python",
   "nbconvert_exporter": "python",
   "pygments_lexer": "ipython2",
   "version": "2.7.12"
  }
 },
 "nbformat": 4,
 "nbformat_minor": 0
}
